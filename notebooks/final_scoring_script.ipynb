{
  "cells": [
    {
      "cell_type": "code",
      "execution_count": null,
      "id": "ba0274fb-6405-4d5b-baf5-54f430601e38",
      "metadata": {
        "id": "ba0274fb-6405-4d5b-baf5-54f430601e38",
        "outputId": "e16c8734-4c90-4ffb-ab85-12ce3926f73a"
      },
      "outputs": [
        {
          "name": "stdout",
          "output_type": "stream",
          "text": [
            "📥 Downloading predictions/model1_predictions_train.parquet ...\n",
            "📥 Downloading predictions/model2_predictions_train.parquet ...\n",
            "✅ TRAIN — Model1: (2748516, 4), Model2: (2504470, 59)\n",
            "📊 TRAIN — kept 142,636 rows (Top 10 per date)\n",
            "☁️ Uploaded: predictions/final_scored_train.parquet\n",
            "📥 Downloading predictions/model1_predictions_val.parquet ...\n",
            "📥 Downloading predictions/model2_predictions_val.parquet ...\n",
            "✅ VAL — Model1: (589040, 4), Model2: (481855, 59)\n",
            "📊 VAL — kept 39,823 rows (Top 10 per date)\n",
            "☁️ Uploaded: predictions/final_scored_val.parquet\n",
            "📥 Downloading predictions/model1_predictions_test.parquet ...\n",
            "📥 Downloading predictions/model2_predictions_test.parquet ...\n",
            "✅ TEST — Model1: (589192, 4), Model2: (491957, 59)\n",
            "📊 TEST — kept 23,590 rows (Top 10 per date)\n",
            "☁️ Uploaded: predictions/final_scored_test.parquet\n",
            "\n",
            "✅ Final scoring finished.\n"
          ]
        }
      ],
      "source": [
        "# ======================\n",
        "# Final Scoring (robust to column names)\n",
        "# ======================\n",
        "import io\n",
        "import pandas as pd\n",
        "from azure.storage.blob import BlobServiceClient\n",
        "\n",
        "# ---- CONFIG ----\n",
        "import os\n",
        "from dotenv import load_dotenv\n",
        "\n",
        "load_dotenv()  # loads .env file if present (for local dev)\n",
        "\n",
        "AZURE_CONNECTION_STRING = os.getenv(\"AZURE_CONN_STR\")\n",
        "CONTAINER_NAME   = \"stock-data\"\n",
        "PREDICTIONS_PATH = \"predictions\"\n",
        "OUTPUT_PREFIX    = \"predictions/final_scored\"\n",
        "TOP_N            = 10\n",
        "\n",
        "blob_service = BlobServiceClient.from_connection_string(AZURE_CONNECTION_STRING)\n",
        "container    = blob_service.get_container_client(CONTAINER_NAME)\n",
        "\n",
        "def blob_exists(path: str) -> bool:\n",
        "    try:\n",
        "        container.get_blob_client(path).get_blob_properties()\n",
        "        return True\n",
        "    except Exception:\n",
        "        return False\n",
        "\n",
        "def load_parquet(path: str) -> pd.DataFrame:\n",
        "    print(f\"📥 Downloading {path} ...\")\n",
        "    data = container.download_blob(path).readall()\n",
        "    return pd.read_parquet(io.BytesIO(data))\n",
        "\n",
        "def upload_parquet(df: pd.DataFrame, path: str):\n",
        "    buf = io.BytesIO()\n",
        "    df.to_parquet(buf, index=False)\n",
        "    buf.seek(0)\n",
        "    container.upload_blob(name=path, data=buf, overwrite=True)\n",
        "    print(f\"☁️ Uploaded: {path}\")\n",
        "\n",
        "def pick_col(cols, preferred, fallbacks):\n",
        "    \"\"\"Return first matching column from [preferred]+fallbacks by substring search.\"\"\"\n",
        "    if preferred in cols:\n",
        "        return preferred\n",
        "    for pat in fallbacks:\n",
        "        cands = [c for c in cols if pat in c]\n",
        "        if cands:\n",
        "            return cands[0]\n",
        "    raise KeyError(f\"Could not find a column among { [preferred]+fallbacks } in {list(cols)[:10]}...\")\n",
        "\n",
        "def process_split(split: str):\n",
        "    m1_path = f\"{PREDICTIONS_PATH}/model1_predictions_{split}.parquet\"\n",
        "    m2_path = f\"{PREDICTIONS_PATH}/model2_predictions_{split}.parquet\"\n",
        "\n",
        "    if not (blob_exists(m1_path) and blob_exists(m2_path)):\n",
        "        print(f\"⚠️  Skipping {split}: missing one of {m1_path} or {m2_path}\")\n",
        "        return\n",
        "\n",
        "    m1 = load_parquet(m1_path)\n",
        "    m2 = load_parquet(m2_path)\n",
        "    print(f\"✅ {split.upper()} — Model1: {m1.shape}, Model2: {m2.shape}\")\n",
        "\n",
        "    # ---- Find & standardize columns BEFORE merge (avoid suffix chaos)\n",
        "    prob_col_m1 = pick_col(\n",
        "        m1.columns,\n",
        "        preferred=\"model1_prob\",\n",
        "        fallbacks=[\"prob\", \"probability\", \"score\"]\n",
        "    )\n",
        "    pred_col_m2 = pick_col(\n",
        "        m2.columns,\n",
        "        preferred=\"model2_pred_return\",\n",
        "        fallbacks=[\"pred_return\", \"model2_pred\", \"prediction\", \"pred\"]\n",
        "    )\n",
        "\n",
        "    # Rename to stable names\n",
        "    m1 = m1.rename(columns={prob_col_m1: \"model1_prob_m1\"})\n",
        "    if \"model1_pred\" in m1.columns:\n",
        "        m1 = m1.rename(columns={\"model1_pred\": \"model1_pred_m1\"})\n",
        "    m2 = m2.rename(columns={pred_col_m2: \"model2_pred_return_m2\"})\n",
        "\n",
        "    # Keep only needed columns from each side to reduce collisions\n",
        "    m1_keep = [\"Date\", \"Ticker\", \"model1_prob_m1\"]\n",
        "    if \"model1_pred_m1\" in m1.columns:\n",
        "        m1_keep.append(\"model1_pred_m1\")\n",
        "    m1 = m1[m1_keep]\n",
        "\n",
        "    # Merge\n",
        "    merged = m1.merge(m2, on=[\"Date\", \"Ticker\"], how=\"inner\")\n",
        "\n",
        "    # Final score\n",
        "    merged[\"final_score\"] = merged[\"model1_prob_m1\"] * merged[\"model2_pred_return_m2\"]\n",
        "\n",
        "    # Rank per date and keep Top-N\n",
        "    merged[\"rank\"] = merged.groupby(\"Date\")[\"final_score\"].rank(ascending=False, method=\"first\")\n",
        "    topN = merged[merged[\"rank\"] <= TOP_N].reset_index(drop=True)\n",
        "    print(f\"📊 {split.upper()} — kept {len(topN):,} rows (Top {TOP_N} per date)\")\n",
        "\n",
        "    # Save\n",
        "    out_path = f\"{OUTPUT_PREFIX}_{split}.parquet\"\n",
        "    upload_parquet(topN, out_path)\n",
        "\n",
        "# Run what’s available\n",
        "for split in [\"train\", \"val\", \"test\"]:\n",
        "    process_split(split)\n",
        "\n",
        "print(\"\\n✅ Final scoring finished.\")\n"
      ]
    },
    {
      "cell_type": "code",
      "execution_count": null,
      "id": "cbfe0f38-71cf-4c78-8c68-ad81a2ecf2c3",
      "metadata": {
        "id": "cbfe0f38-71cf-4c78-8c68-ad81a2ecf2c3",
        "outputId": "b8a23ea7-abdb-466d-cabc-e467d586a664"
      },
      "outputs": [
        {
          "name": "stdout",
          "output_type": "stream",
          "text": [
            "📥 Downloading predictions/final_scored_test.parquet ...\n",
            "✅ Loaded 23,590 rows\n",
            "\n",
            "📅 Latest Date: 2024-08-06 04:00:00+00:00\n",
            "      Ticker  final_score  future_return\n",
            "9463   GOOGL     0.264024       0.278638\n",
            "21058   TTWO     0.261429       0.551424\n",
            "9089    GOOG     0.250779       0.264857\n",
            "4971     DIS     0.247777       0.260529\n",
            "6018      EA     0.184715       0.156302\n",
            "22472    WBD     0.166762       0.441215\n",
            "16761    OMC     0.158104      -0.175083\n",
            "7851       F     0.151883       0.248355\n",
            "118     ALGN     0.139275      -0.322155\n",
            "20206    TPL     0.126298       0.120866\n"
          ]
        },
        {
          "data": {
            "image/png": "[encoded data removed]",
            "text/plain": [
              "<Figure size 1000x600 with 1 Axes>"
            ]
          },
          "metadata": {},
          "output_type": "display_data"
        },
        {
          "name": "stdout",
          "output_type": "stream",
          "text": [
            "💾 Saved: top10_latest.csv\n"
          ]
        }
      ],
      "source": [
        "# ===========================\n",
        "# Quick Top 10 Analysis - Test\n",
        "# ===========================\n",
        "\n",
        "import io\n",
        "import pandas as pd\n",
        "import matplotlib.pyplot as plt\n",
        "from azure.storage.blob import BlobServiceClient\n",
        "\n",
        "# --- CONFIG ---\n",
        "import os\n",
        "from dotenv import load_dotenv\n",
        "\n",
        "load_dotenv()  # loads .env file if present (for local dev)\n",
        "\n",
        "AZURE_CONNECTION_STRING = os.getenv(\"AZURE_CONN_STR\")\n",
        "CONTAINER_NAME = \"stock-data\"\n",
        "BLOB_NAME = \"predictions/final_scored_test.parquet\"\n",
        "\n",
        "# --- CONNECT ---\n",
        "blob_service = BlobServiceClient.from_connection_string(AZURE_CONNECTION_STRING)\n",
        "container = blob_service.get_container_client(CONTAINER_NAME)\n",
        "\n",
        "# --- LOAD PARQUET FROM BLOB ---\n",
        "print(f\"📥 Downloading {BLOB_NAME} ...\")\n",
        "data_bytes = container.download_blob(BLOB_NAME).readall()\n",
        "df = pd.read_parquet(io.BytesIO(data_bytes))\n",
        "print(f\"✅ Loaded {len(df):,} rows\")\n",
        "\n",
        "# --- SHOW LATEST TOP 10 ---\n",
        "latest_date = df[\"Date\"].max()\n",
        "top10_latest = df[df[\"Date\"] == latest_date].sort_values(\"final_score\", ascending=False).head(10)\n",
        "\n",
        "print(f\"\\n📅 Latest Date: {latest_date}\")\n",
        "print(top10_latest[[\"Ticker\", \"final_score\", \"future_return\"]])\n",
        "\n",
        "# --- PLOT FORWARD RETURNS ---\n",
        "plt.figure(figsize=(10, 6))\n",
        "plt.bar(top10_latest[\"Ticker\"], top10_latest[\"future_return\"], color=\"skyblue\")\n",
        "plt.axhline(y=0, color='red', linestyle='--', linewidth=1)\n",
        "plt.title(f\"Forward Returns for Top 10 on {latest_date.date()}\")\n",
        "plt.ylabel(\"Future Return\")\n",
        "plt.xlabel(\"Ticker\")\n",
        "plt.xticks(rotation=45)\n",
        "plt.tight_layout()\n",
        "plt.show()\n",
        "\n",
        "# --- OPTIONAL: Save locally ---\n",
        "top10_latest.to_csv(\"top10_latest.csv\", index=False)\n",
        "print(\"💾 Saved: top10_latest.csv\")\n"
      ]
    },
    {
      "cell_type": "code",
      "execution_count": null,
      "id": "32207f47-3a7d-4925-b5e4-f82bd819b0ff",
      "metadata": {
        "id": "32207f47-3a7d-4925-b5e4-f82bd819b0ff",
        "outputId": "040a61ec-d43f-4acd-e299-3591012ec37f"
      },
      "outputs": [
        {
          "name": "stdout",
          "output_type": "stream",
          "text": [
            "☁️ Uploaded top 10 CSV to Blob: predictions/top10_latest.csv\n",
            "☁️ Uploaded top 10 Parquet to Blob: predictions/top10_latest.parquet\n"
          ]
        }
      ],
      "source": [
        "# --- UPLOAD CSV to Blob ---\n",
        "csv_blob_name = \"predictions/top10_latest.csv\"\n",
        "with open(\"top10_latest.csv\", \"rb\") as f:\n",
        "    container.upload_blob(name=csv_blob_name, data=f, overwrite=True)\n",
        "print(f\"☁️ Uploaded top 10 CSV to Blob: {csv_blob_name}\")\n",
        "\n",
        "# --- UPLOAD Latest Top 10 Parquet to Blob ---\n",
        "top10_buf = io.BytesIO()\n",
        "top10_latest.to_parquet(top10_buf, index=False)\n",
        "top10_buf.seek(0)\n",
        "top10_parquet_blob = \"predictions/top10_latest.parquet\"\n",
        "container.upload_blob(name=top10_parquet_blob, data=top10_buf, overwrite=True)\n",
        "print(f\"☁️ Uploaded top 10 Parquet to Blob: {top10_parquet_blob}\")\n"
      ]
    },
    {
      "cell_type": "code",
      "execution_count": null,
      "id": "aed54276-ea9e-4bd8-a3b2-8a8e8927aca8",
      "metadata": {
        "id": "aed54276-ea9e-4bd8-a3b2-8a8e8927aca8"
      },
      "outputs": [],
      "source": []
    },
    {
      "cell_type": "code",
      "execution_count": null,
      "id": "19eb6e4f-e141-44ad-804f-9676336b1765",
      "metadata": {
        "id": "19eb6e4f-e141-44ad-804f-9676336b1765"
      },
      "outputs": [],
      "source": []
    },
    {
      "cell_type": "code",
      "execution_count": null,
      "id": "4352ebf2-a12e-45ef-a818-595cd1331a9f",
      "metadata": {
        "id": "4352ebf2-a12e-45ef-a818-595cd1331a9f"
      },
      "outputs": [],
      "source": []
    }
  ],
  "metadata": {
    "kernelspec": {
      "display_name": "Python 3.10 - AzureML",
      "language": "python",
      "name": "python38-azureml"
    },
    "language_info": {
      "codemirror_mode": {
        "name": "ipython",
        "version": 3
      },
      "file_extension": ".py",
      "mimetype": "text/x-python",
      "name": "python",
      "nbconvert_exporter": "python",
      "pygments_lexer": "ipython3",
      "version": "3.10.11"
    },
    "colab": {
      "provenance": []
    }
  },
  "nbformat": 4,
  "nbformat_minor": 5
}