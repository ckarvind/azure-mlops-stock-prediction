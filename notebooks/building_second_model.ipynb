{
  "cells": [
    {
      "cell_type": "code",
      "execution_count": null,
      "id": "b2101397-e678-4cc7-974a-47bdbcfafed7",
      "metadata": {
        "id": "b2101397-e678-4cc7-974a-47bdbcfafed7",
        "outputId": "60d069c9-497b-406d-9e79-9be20212707b"
      },
      "outputs": [
        {
          "name": "stdout",
          "output_type": "stream",
          "text": [
            "📥 Loading features and Model 1 predictions...\n",
            "✅ TRAIN features: (2748516, 56), preds: (2748516, 4)\n",
            "✅ VAL features: (589040, 56), preds: (589040, 4)\n",
            "✅ TEST features: (589192, 56), preds: (589192, 4)\n",
            "🎯 TRAIN candidates >= 0.2: 2,504,470 / 2,748,516\n",
            "🎯 VAL candidates >= 0.2: 481,855 / 589,040\n",
            "🎯 TEST candidates >= 0.2: 491,957 / 589,192\n",
            "🚀 Training Model 2 (XGBRegressor)...\n"
          ]
        },
        {
          "name": "stderr",
          "output_type": "stream",
          "text": [
            "/anaconda/envs/azureml_py38/lib/python3.10/site-packages/xgboost/data.py:262: FutureWarning: pandas.Int64Index is deprecated and will be removed from pandas in a future version. Use pandas.Index with the appropriate dtype instead.\n",
            "  elif isinstance(data.columns, (pd.Int64Index, pd.RangeIndex)):\n",
            "/anaconda/envs/azureml_py38/lib/python3.10/site-packages/xgboost/data.py:262: FutureWarning: pandas.Int64Index is deprecated and will be removed from pandas in a future version. Use pandas.Index with the appropriate dtype instead.\n",
            "  elif isinstance(data.columns, (pd.Int64Index, pd.RangeIndex)):\n"
          ]
        },
        {
          "name": "stdout",
          "output_type": "stream",
          "text": [
            "⏱ Training done in 23.3 sec\n"
          ]
        },
        {
          "name": "stderr",
          "output_type": "stream",
          "text": [
            "/anaconda/envs/azureml_py38/lib/python3.10/site-packages/xgboost/data.py:262: FutureWarning: pandas.Int64Index is deprecated and will be removed from pandas in a future version. Use pandas.Index with the appropriate dtype instead.\n",
            "  elif isinstance(data.columns, (pd.Int64Index, pd.RangeIndex)):\n",
            "/anaconda/envs/azureml_py38/lib/python3.10/site-packages/sklearn/metrics/_regression.py:492: FutureWarning: 'squared' is deprecated in version 1.4 and will be removed in 1.6. To calculate the root mean squared error, use the function'root_mean_squared_error'.\n",
            "  warnings.warn(\n",
            "/anaconda/envs/azureml_py38/lib/python3.10/site-packages/xgboost/data.py:262: FutureWarning: pandas.Int64Index is deprecated and will be removed from pandas in a future version. Use pandas.Index with the appropriate dtype instead.\n",
            "  elif isinstance(data.columns, (pd.Int64Index, pd.RangeIndex)):\n"
          ]
        },
        {
          "name": "stdout",
          "output_type": "stream",
          "text": [
            "📊 VAL RMSE: 0.3114, R²: 0.0435\n"
          ]
        },
        {
          "name": "stderr",
          "output_type": "stream",
          "text": [
            "/anaconda/envs/azureml_py38/lib/python3.10/site-packages/sklearn/metrics/_regression.py:492: FutureWarning: 'squared' is deprecated in version 1.4 and will be removed in 1.6. To calculate the root mean squared error, use the function'root_mean_squared_error'.\n",
            "  warnings.warn(\n"
          ]
        },
        {
          "name": "stdout",
          "output_type": "stream",
          "text": [
            "📊 TEST RMSE: 0.3611, R²: -0.0252\n"
          ]
        },
        {
          "name": "stderr",
          "output_type": "stream",
          "text": [
            "/anaconda/envs/azureml_py38/lib/python3.10/site-packages/xgboost/data.py:262: FutureWarning: pandas.Int64Index is deprecated and will be removed from pandas in a future version. Use pandas.Index with the appropriate dtype instead.\n",
            "  elif isinstance(data.columns, (pd.Int64Index, pd.RangeIndex)):\n"
          ]
        },
        {
          "name": "stdout",
          "output_type": "stream",
          "text": [
            "💾 Saved local: model2_predictions_train.parquet\n",
            "☁️ Uploaded to Blob: predictions/model2_predictions_train.parquet\n"
          ]
        },
        {
          "name": "stderr",
          "output_type": "stream",
          "text": [
            "/anaconda/envs/azureml_py38/lib/python3.10/site-packages/xgboost/data.py:262: FutureWarning: pandas.Int64Index is deprecated and will be removed from pandas in a future version. Use pandas.Index with the appropriate dtype instead.\n",
            "  elif isinstance(data.columns, (pd.Int64Index, pd.RangeIndex)):\n"
          ]
        },
        {
          "name": "stdout",
          "output_type": "stream",
          "text": [
            "💾 Saved local: model2_predictions_val.parquet\n",
            "☁️ Uploaded to Blob: predictions/model2_predictions_val.parquet\n"
          ]
        },
        {
          "name": "stderr",
          "output_type": "stream",
          "text": [
            "/anaconda/envs/azureml_py38/lib/python3.10/site-packages/xgboost/data.py:262: FutureWarning: pandas.Int64Index is deprecated and will be removed from pandas in a future version. Use pandas.Index with the appropriate dtype instead.\n",
            "  elif isinstance(data.columns, (pd.Int64Index, pd.RangeIndex)):\n"
          ]
        },
        {
          "name": "stdout",
          "output_type": "stream",
          "text": [
            "💾 Saved local: model2_predictions_test.parquet\n",
            "☁️ Uploaded to Blob: predictions/model2_predictions_test.parquet\n",
            "✅ Model 2 pipeline complete.\n"
          ]
        }
      ],
      "source": [
        "# ======================\n",
        "# Model 2 - Stock Return Regressor (with Train/Val/Test preds)\n",
        "# ======================\n",
        "\n",
        "import os\n",
        "import io\n",
        "import time\n",
        "import pandas as pd\n",
        "from azure.storage.blob import BlobServiceClient\n",
        "from xgboost import XGBRegressor\n",
        "from sklearn.metrics import mean_squared_error, r2_score\n",
        "\n",
        "# ---------- CONFIG ----------\n",
        "import os\n",
        "from dotenv import load_dotenv\n",
        "\n",
        "load_dotenv()  # loads .env file if present (for local dev)\n",
        "\n",
        "AZURE_CONNECTION_STRING = os.getenv(\"AZURE_CONN_STR\")\n",
        "CONTAINER_NAME = \"stock-data\"\n",
        "\n",
        "FEATURES_PATH = \"training_data\"   # where train/val/test features are stored\n",
        "PREDICTIONS_PATH = \"predictions\"  # where model1 predictions are stored\n",
        "\n",
        "MODEL2_THRESHOLD = 0.2            # min model1_prob to be candidate\n",
        "N_JOBS = 12                       # for 12 CPU cores\n",
        "SEED = 42\n",
        "\n",
        "# ---------- CONNECT ----------\n",
        "blob_service = BlobServiceClient.from_connection_string(AZURE_CONNECTION_STRING)\n",
        "container = blob_service.get_container_client(CONTAINER_NAME)\n",
        "\n",
        "def load_parquet_from_blob(blob_name):\n",
        "    data = container.download_blob(blob_name).readall()\n",
        "    return pd.read_parquet(io.BytesIO(data))\n",
        "\n",
        "# ---------- LOAD DATA ----------\n",
        "print(\"📥 Loading features and Model 1 predictions...\")\n",
        "splits = [\"train\", \"val\", \"test\"]\n",
        "features = {}\n",
        "preds = {}\n",
        "for split in splits:\n",
        "    features[split] = load_parquet_from_blob(f\"{FEATURES_PATH}/{split}.parquet\")\n",
        "    preds[split]    = load_parquet_from_blob(f\"{PREDICTIONS_PATH}/model1_predictions_{split}.parquet\")\n",
        "    print(f\"✅ {split.upper()} features: {features[split].shape}, preds: {preds[split].shape}\")\n",
        "\n",
        "# ---------- MERGE + FILTER ----------\n",
        "candidates = {}\n",
        "for split in splits:\n",
        "    df = features[split].merge(preds[split], on=[\"Date\", \"Ticker\"])\n",
        "    before = len(df)\n",
        "    df = df[df[\"model1_prob\"] >= MODEL2_THRESHOLD].reset_index(drop=True)\n",
        "    after = len(df)\n",
        "    print(f\"🎯 {split.upper()} candidates >= {MODEL2_THRESHOLD}: {after:,} / {before:,}\")\n",
        "    candidates[split] = df\n",
        "\n",
        "# ---------- TRAIN MODEL 2 ----------\n",
        "exclude_cols = {\"Date\", \"Ticker\", \"future_return\", \"high_growth_label\", \"model1_prob\", \"model1_pred\"}\n",
        "X_train = candidates[\"train\"].drop(columns=list(exclude_cols))\n",
        "y_train = candidates[\"train\"][\"future_return\"]\n",
        "X_val = candidates[\"val\"].drop(columns=list(exclude_cols))\n",
        "y_val = candidates[\"val\"][\"future_return\"]\n",
        "\n",
        "print(\"🚀 Training Model 2 (XGBRegressor)...\")\n",
        "start_time = time.time()\n",
        "model2 = XGBRegressor(\n",
        "    objective=\"reg:squarederror\",\n",
        "    n_estimators=600,\n",
        "    learning_rate=0.05,\n",
        "    max_depth=6,\n",
        "    subsample=0.85,\n",
        "    colsample_bytree=0.85,\n",
        "    reg_lambda=1.5,\n",
        "    reg_alpha=0.1,\n",
        "    n_jobs=N_JOBS,\n",
        "    random_state=SEED,\n",
        "    tree_method=\"hist\"\n",
        ")\n",
        "model2.fit(X_train, y_train, eval_set=[(X_val, y_val)], early_stopping_rounds=30, verbose=False)\n",
        "print(f\"⏱ Training done in {time.time()-start_time:.1f} sec\")\n",
        "\n",
        "# ---------- EVALUATE ----------\n",
        "for split in [\"val\", \"test\"]:\n",
        "    X_split = candidates[split].drop(columns=list(exclude_cols))\n",
        "    y_split = candidates[split][\"future_return\"]\n",
        "    preds_split = model2.predict(X_split)\n",
        "    rmse = mean_squared_error(y_split, preds_split, squared=False)\n",
        "    r2   = r2_score(y_split, preds_split)\n",
        "    print(f\"📊 {split.upper()} RMSE: {rmse:.4f}, R²: {r2:.4f}\")\n",
        "\n",
        "# ---------- PREDICT & SAVE FOR ALL SPLITS ----------\n",
        "for split in splits:\n",
        "    X_split = candidates[split].drop(columns=list(exclude_cols))\n",
        "    preds_split = model2.predict(X_split)\n",
        "    candidates[split][\"model2_pred_return\"] = preds_split\n",
        "\n",
        "    # Save locally\n",
        "    local_out = f\"model2_predictions_{split}.parquet\"\n",
        "    candidates[split].to_parquet(local_out, index=False)\n",
        "\n",
        "    # Upload to Blob\n",
        "    blob_out = f\"{PREDICTIONS_PATH}/model2_predictions_{split}.parquet\"\n",
        "    with open(local_out, \"rb\") as f:\n",
        "        container.upload_blob(name=blob_out, data=f, overwrite=True)\n",
        "\n",
        "    print(f\"💾 Saved local: {local_out}\")\n",
        "    print(f\"☁️ Uploaded to Blob: {blob_out}\")\n",
        "\n",
        "print(\"✅ Model 2 pipeline complete.\")\n"
      ]
    },
    {
      "cell_type": "code",
      "execution_count": null,
      "id": "c67436ff-4bbc-4870-b5b3-2b067eb01ebe",
      "metadata": {
        "id": "c67436ff-4bbc-4870-b5b3-2b067eb01ebe"
      },
      "outputs": [],
      "source": []
    },
    {
      "cell_type": "code",
      "execution_count": null,
      "id": "16bfea87-375f-4945-ae10-886c359069ed",
      "metadata": {
        "id": "16bfea87-375f-4945-ae10-886c359069ed"
      },
      "outputs": [],
      "source": []
    },
    {
      "cell_type": "code",
      "execution_count": null,
      "id": "1654865b-ddf3-479a-a266-add7aa11637d",
      "metadata": {
        "id": "1654865b-ddf3-479a-a266-add7aa11637d"
      },
      "outputs": [],
      "source": []
    },
    {
      "cell_type": "code",
      "execution_count": null,
      "id": "884e4edb-3359-4ca2-a607-bfefd24a05a7",
      "metadata": {
        "id": "884e4edb-3359-4ca2-a607-bfefd24a05a7"
      },
      "outputs": [],
      "source": []
    },
    {
      "cell_type": "code",
      "execution_count": null,
      "id": "84937495-8d6c-4a62-8458-614bc30aef8f",
      "metadata": {
        "id": "84937495-8d6c-4a62-8458-614bc30aef8f"
      },
      "outputs": [],
      "source": []
    }
  ],
  "metadata": {
    "kernelspec": {
      "display_name": "Python 3.10 - AzureML",
      "language": "python",
      "name": "python38-azureml"
    },
    "language_info": {
      "codemirror_mode": {
        "name": "ipython",
        "version": 3
      },
      "file_extension": ".py",
      "mimetype": "text/x-python",
      "name": "python",
      "nbconvert_exporter": "python",
      "pygments_lexer": "ipython3",
      "version": "3.10.11"
    },
    "colab": {
      "provenance": []
    }
  },
  "nbformat": 4,
  "nbformat_minor": 5
}